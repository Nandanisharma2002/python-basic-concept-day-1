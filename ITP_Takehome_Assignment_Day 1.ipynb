{
 "cells": [
  {
   "cell_type": "markdown",
   "metadata": {
    "id": "g80jOBmjQa_P"
   },
   "source": [
    "### Let's begin with some hands-on practice exercises"
   ]
  },
  {
   "cell_type": "markdown",
   "metadata": {
    "id": "Ml8MdFqAQa_P"
   },
   "source": [
    "<table align=\"left\">\n",
    "    <tr>\n",
    "        <td width=\"6%\">\n",
    "            <img src=\"question_icon.png\">\n",
    "        </td>\n",
    "        <td>\n",
    "            <div align=\"left\", style=\"font-size:120%\">\n",
    "                <font color=\"#21618C\">\n",
    "                    <b>1. Write a program to convert the value of 'pi' to integer</b>\n",
    "                </font>\n",
    "            </div>\n",
    "        </td>\n",
    "    </tr>\n",
    "</table>\n"
   ]
  },
  {
   "cell_type": "code",
   "execution_count": 7,
   "metadata": {
    "id": "2dtXGOWZQa_Q"
   },
   "outputs": [
    {
     "data": {
      "text/plain": [
       "3"
      ]
     },
     "execution_count": 7,
     "metadata": {},
     "output_type": "execute_result"
    }
   ],
   "source": [
    "# type your code here\n",
    "pi= 22/7\n",
    "type(pi)\n",
    "\n",
    "pi= 22/7\n",
    "int(22/7)"
   ]
  },
  {
   "cell_type": "markdown",
   "metadata": {
    "id": "E3wj1yU6Qa_Q"
   },
   "source": [
    "<table align=\"left\">\n",
    "    <tr>\n",
    "        <td width=\"6%\">\n",
    "            <img src=\"question_icon.png\">\n",
    "        </td>\n",
    "        <td>\n",
    "            <div align=\"left\", style=\"font-size:120%\">\n",
    "                <font color=\"#21618C\">\n",
    "                    <b>2. Find the remainder after dividing 542 by 16</b>\n",
    "                </font>\n",
    "            </div>\n",
    "        </td>\n",
    "    </tr>\n",
    "</table>"
   ]
  },
  {
   "cell_type": "code",
   "execution_count": 1,
   "metadata": {
    "id": "QCHcvLAFQa_R"
   },
   "outputs": [
    {
     "name": "stdout",
     "output_type": "stream",
     "text": [
      " the remainder after dividing is  14\n"
     ]
    }
   ],
   "source": [
    "# type your code here\n",
    "dividend=542\n",
    "divisor= 16\n",
    "remainder= dividend% divisor\n",
    "print(' the remainder after dividing is ', remainder)"
   ]
  },
  {
   "cell_type": "markdown",
   "metadata": {
    "id": "gmLbuu-SQa_R"
   },
   "source": [
    "<table align=\"left\">\n",
    "    <tr>\n",
    "        <td width=\"6%\">\n",
    "            <img src=\"question_icon.png\">\n",
    "        </td>\n",
    "        <td>\n",
    "            <div align=\"left\", style=\"font-size:120%\">\n",
    "                <font color=\"#21618C\">\n",
    "                    <b>3.  Display the following pattern using single print() </b>\n",
    "                </font>\n",
    "            </div>\n",
    "        </td>\n",
    "    </tr>\n",
    "</table>"
   ]
  },
  {
   "cell_type": "markdown",
   "metadata": {
    "id": "DK3tidsyQa_R"
   },
   "source": [
    "                                *\n",
    "                                **\n",
    "                                ***\n",
    "                                ****"
   ]
  },
  {
   "cell_type": "code",
   "execution_count": 9,
   "metadata": {
    "id": "6DGUY8KZQa_R"
   },
   "outputs": [
    {
     "name": "stdout",
     "output_type": "stream",
     "text": [
      "* \n",
      "** \n",
      "*** \n",
      "****\n"
     ]
    }
   ],
   "source": [
    "# type your code here\n",
    "print('*','\\n**','\\n***','\\n****')"
   ]
  },
  {
   "cell_type": "markdown",
   "metadata": {
    "id": "GMpBUTS4Qa_S"
   },
   "source": [
    "<table align=\"left\">\n",
    "    <tr>\n",
    "        <td width=\"6%\">\n",
    "            <img src=\"question_icon.png\">\n",
    "        </td>\n",
    "        <td>\n",
    "            <div align=\"left\", style=\"font-size:120%\">\n",
    "                <font color=\"#21618C\">\n",
    "                    <b>4. Write a pseudo code to check whether an entered letter is a vowel or not </b>\n",
    "                </font>\n",
    "            </div>\n",
    "        </td>\n",
    "    </tr>\n",
    "</table>"
   ]
  },
  {
   "cell_type": "code",
   "execution_count": null,
   "metadata": {},
   "outputs": [],
   "source": [
    "# type your code here\n",
    "alphabets=read the letters in the variable alphabets\n",
    "check if it starts from a,e,i,o,u\n",
    "print vowels \n",
    "if not equal to vowels \n",
    "print consonent"
   ]
  },
  {
   "cell_type": "code",
   "execution_count": 12,
   "metadata": {},
   "outputs": [
    {
     "name": "stdout",
     "output_type": "stream",
     "text": [
      "enter the letterz\n",
      "consonent\n"
     ]
    }
   ],
   "source": [
    "alphabets= input(\"enter the letter\")\n",
    "if alphabets in ('a','e','i','o','u'):\n",
    "    print('it is vowel')\n",
    "else:\n",
    "    print('consonent')\n"
   ]
  },
  {
   "cell_type": "markdown",
   "metadata": {
    "id": "yn2ZFlrjQa_T"
   },
   "source": [
    "<table align=\"left\">\n",
    "    <tr>\n",
    "        <td width=\"6%\">\n",
    "            <img src=\"question_icon.png\">\n",
    "        </td>\n",
    "        <td>\n",
    "            <div align=\"left\", style=\"font-size:120%\">\n",
    "                <font color=\"#21618C\">\n",
    "                    <b> 5. Write a pseudo code to check whether input is even number or odd number (take input from user)</b>\n",
    "                </font>\n",
    "            </div>\n",
    "        </td>\n",
    "    </tr>\n",
    "</table>"
   ]
  },
  {
   "cell_type": "code",
   "execution_count": null,
   "metadata": {},
   "outputs": [],
   "source": [
    "num=read value as even or odd\n",
    "check if num% 2==0 \n",
    "print num is even \n",
    "and if num% 2 not equal to 0 \n",
    "print num is odd"
   ]
  },
  {
   "cell_type": "code",
   "execution_count": 6,
   "metadata": {
    "id": "5uTz6pwVQa_T"
   },
   "outputs": [
    {
     "name": "stdout",
     "output_type": "stream",
     "text": [
      "enter the number3\n",
      "num is odd\n"
     ]
    }
   ],
   "source": [
    "# type your code here\n",
    "# pseudo code \n",
    "num=int(input('enter the number'))\n",
    "if num% 2==0:\n",
    "    print('num is even')\n",
    "else:\n",
    "        print('num is odd')"
   ]
  },
  {
   "cell_type": "markdown",
   "metadata": {
    "id": "jCXEk8wkQa_T"
   },
   "source": [
    "<table align=\"left\">\n",
    "    <tr>\n",
    "        <td width=\"6%\">\n",
    "            <img src=\"question_icon.png\">\n",
    "        </td>\n",
    "        <td>\n",
    "            <div align=\"left\", style=\"font-size:120%\">\n",
    "                <font color=\"#21618C\">\n",
    "                    <b>6. Write a pseudo code to print whether a number is divisible by 9 and a multiple of 6 (take input from the user)</b>\n",
    "                </font>\n",
    "            </div>\n",
    "        </td>\n",
    "    </tr>\n",
    "</table>"
   ]
  },
  {
   "cell_type": "code",
   "execution_count": null,
   "metadata": {
    "id": "0tqTsv6qQa_T"
   },
   "outputs": [],
   "source": [
    "# type your code here\n",
    "# pseudo code\n",
    "num= read a value entered by user\n",
    "check if num% 9 and num% 6\n",
    "print divisible\n",
    "else print non divisible"
   ]
  },
  {
   "cell_type": "code",
   "execution_count": 14,
   "metadata": {},
   "outputs": [
    {
     "name": "stdout",
     "output_type": "stream",
     "text": [
      "enter the number27\n",
      "non divisible\n"
     ]
    }
   ],
   "source": [
    "num= int(input('enter the number'))\n",
    "if num% 9==0 and num% 6==0 :\n",
    "    print('divisible')\n",
    "else :\n",
    "    print('non divisible')"
   ]
  },
  {
   "cell_type": "markdown",
   "metadata": {
    "id": "CcPDpFLyQa_U"
   },
   "source": [
    "<table align=\"left\">\n",
    "    <tr>\n",
    "        <td width=\"6%\">\n",
    "            <img src=\"question_icon.png\">\n",
    "        </td>\n",
    "        <td>\n",
    "            <div align=\"left\", style=\"font-size:120%\">\n",
    "                <font color=\"#21618C\">\n",
    "                    <b>7. Write a pseudo to take 5 values from user and print their average using while loop (take input from user)</b>\n",
    "                </font>\n",
    "            </div>\n",
    "        </td>\n",
    "    </tr>\n",
    "</table>"
   ]
  },
  {
   "cell_type": "code",
   "execution_count": 2,
   "metadata": {
    "id": "ZrmzyUiJQa_U"
   },
   "outputs": [
    {
     "name": "stdout",
     "output_type": "stream",
     "text": [
      "enter the number1\n",
      "enter the number2\n",
      "enter the number3\n",
      "enter the number4\n",
      "enter the number5\n",
      "the average of 5 numbers is : 3.0\n"
     ]
    }
   ],
   "source": [
    "# type your code here\n",
    "# type your code here\n",
    "total_sum=0\n",
    "count=0\n",
    "while count< 5:\n",
    "    num=float(input('enter the number'))\n",
    "    total_sum+=num\n",
    "    count+=1\n",
    "avg=total_sum/5\n",
    "print('the average of 5 numbers is :', avg)"
   ]
  },
  {
   "cell_type": "markdown",
   "metadata": {},
   "source": [
    "<table align=\"left\">\n",
    "    <tr>\n",
    "        <td width=\"6%\">\n",
    "            <img src=\"question_icon.png\">\n",
    "        </td>\n",
    "        <td>\n",
    "            <div align=\"left\", style=\"font-size:120%\">\n",
    "                <font color=\"#21618C\">\n",
    "                    <b>8. Write a program to print the data type of the given number. The given number is 9.93</b>\n",
    "                </font>\n",
    "            </div>\n",
    "        </td>\n",
    "    </tr>\n",
    "</table>"
   ]
  },
  {
   "cell_type": "code",
   "execution_count": 16,
   "metadata": {},
   "outputs": [
    {
     "name": "stdout",
     "output_type": "stream",
     "text": [
      "data type of a is  <class 'float'>\n"
     ]
    }
   ],
   "source": [
    "# type your code here\n",
    "a=9.93\n",
    "print('data type of a is ', type(a))"
   ]
  }
 ],
 "metadata": {
  "colab": {
   "name": "ITP-Day 1_TH Exercise.ipynb",
   "provenance": []
  },
  "kernelspec": {
   "display_name": "Python 3 (ipykernel)",
   "language": "python",
   "name": "python3"
  },
  "language_info": {
   "codemirror_mode": {
    "name": "ipython",
    "version": 3
   },
   "file_extension": ".py",
   "mimetype": "text/x-python",
   "name": "python",
   "nbconvert_exporter": "python",
   "pygments_lexer": "ipython3",
   "version": "3.11.5"
  }
 },
 "nbformat": 4,
 "nbformat_minor": 1
}
